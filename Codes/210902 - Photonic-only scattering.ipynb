{
 "cells": [
  {
   "cell_type": "code",
   "execution_count": 2,
   "metadata": {},
   "outputs": [],
   "source": [
    "import setup"
   ]
  },
  {
   "cell_type": "code",
   "execution_count": 3,
   "metadata": {},
   "outputs": [
    {
     "data": {
      "text/plain": [
       "<module 'setup' from '/home/guillermo/Nextcloud/projects/Distributed_Q_gates_clean/Codes/setup.py'>"
      ]
     },
     "execution_count": 3,
     "metadata": {},
     "output_type": "execute_result"
    }
   ],
   "source": [
    "import importlib\n",
    "importlib.reload(setup)"
   ]
  },
  {
   "cell_type": "code",
   "execution_count": 4,
   "metadata": {},
   "outputs": [],
   "source": [
    "import numpy as np\n",
    "import os.path\n",
    "from numpy import pi, floor, sqrt\n",
    "from math import pi as π\n",
    "import scipy.sparse as sp\n",
    "import scipy.sparse.linalg\n",
    "import matplotlib.pyplot as plt\n",
    "from matplotlib.gridspec import GridSpec\n",
    "import setup"
   ]
  },
  {
   "cell_type": "code",
   "execution_count": 5,
   "metadata": {},
   "outputs": [
    {
     "data": {
      "text/plain": [
       "<module 'setup' from '/home/guillermo/Nextcloud/projects/Distributed_Q_gates_clean/Codes/setup.py'>"
      ]
     },
     "execution_count": 5,
     "metadata": {},
     "output_type": "execute_result"
    }
   ],
   "source": [
    "import importlib\n",
    "importlib.reload(setup)"
   ]
  },
  {
   "cell_type": "code",
   "execution_count": 6,
   "metadata": {},
   "outputs": [],
   "source": [
    "styles = ['science']\n",
    "prefix = '../stylelib/'\n",
    "sufix = '.mplstyle'\n",
    "for i in range(len(styles)):\n",
    "    styles[i] = prefix + styles[i] + sufix\n",
    "plt.style.use(styles)\n",
    "plt.rcParams.update({'font.size': 20})"
   ]
  },
  {
   "cell_type": "code",
   "execution_count": null,
   "metadata": {},
   "outputs": [],
   "source": [
    "phase_gate_30m_30MHz = np.load('phase_gate_30m_30MHz.npy')\n",
    "phase_gate_30m_50MHz = np.load('phase_gate_30m_50MHz.npy')\n",
    "phase_gate_30m_100MHz = np.load('phase_gate_30m_100MHz.npy')\n",
    "phase_gate_30m_200MHz = np.load('phase_gate_30m_200MHz.npy')\n",
    "\n",
    "phase_gate_5m_100MHz = np.load('phase_gate_5m_100MHz.npy')\n",
    "phase_gate_5m_50MHz = np.load('phase_gate_5m_50MHz.npy')\n",
    "phase_gate_5m_30MHz = np.load('phase_gate_5m_30MHz.npy')"
   ]
  },
  {
   "cell_type": "markdown",
   "metadata": {},
   "source": [
    "# Scattering of incoming photon with respect to e/g"
   ]
  },
  {
   "cell_type": "markdown",
   "metadata": {},
   "source": [
    "We want to numerically study (based on the input-output formulas), the distortion and change in phase of the incoming photon with respect to the reflected ones. We have to do it properly, taking into account the phase effects due to each of the processes. We will begin with a reference photon\n",
    "$$f(\\omega)_{\\rm ref_x} = f(\\omega) e^{-i \\varphi_x} e^{-i 2t \\tilde{\\omega}(k) } \\hspace{.5cm} \\text{with} \\hspace{.5cm} \\varphi_x = \\pm \\pi/2 + \\frac{2}{\\kappa} (\\omega-\\Omega_x) $$\n",
    "wher $x = e,g$. This represents a photon that travels without distortion and interacts with a cavity for a time $\\frac{2}{\\kappa}$ acquiring after that interaction a phase $\\pm \\pi/2$.\n",
    "\n",
    "The real (simulated) photon however suffers distortion from second order contributions of both non-linear dispersion relation and phase profile upon interaction\n",
    "\n",
    "$$\\tilde{f(\\omega)}_x = f(\\omega) e^{-i \\varphi(\\omega)_x} e^{-i 2t \\omega(k) } \\hspace{.5cm} \\text{with} \\hspace{.5cm} e^{-i \\varphi(\\omega)_x} = \\frac{\\kappa/2+i(\\omega-(\\Omega \\pm \\chi))}{-\\kappa/2+i(\\omega-(\\Omega \\pm \\chi))}$$\n",
    "\n",
    "\n"
   ]
  },
  {
   "cell_type": "code",
   "execution_count": 8,
   "metadata": {},
   "outputs": [
    {
     "data": {
      "text/plain": [
       "([<matplotlib.lines.Line2D at 0x7fd83cc603a0>], 2101)"
      ]
     },
     "execution_count": 8,
     "metadata": {},
     "output_type": "execute_result"
    },
    {
     "data": {
      "image/png": "[encoded data removed]",
      "text/plain": [
       "<Figure size 252x189 with 1 Axes>"
      ]
     },
     "metadata": {
      "needs_background": "light"
     },
     "output_type": "display_data"
    }
   ],
   "source": [
    "control = setup.Exp2QB2Cavities(ω1=2*π*8.40701933547913, ω2=2*π*8.40701933547913, δ2=0, g2=0, κ1=0, κ2 = 2*π*1e-3*100, l=30, mmax=2101)\n",
    "plt.plot(control.ωrelevant)\n",
    "\n",
    "np.argmin(np.abs(control.ωrelevant-control.ω1))\n",
    "control.ωrelevant[1050], control.mcentral , control.mcentral - int(control.mmax/2), int(control.mmax/2)\n",
    "ω_linear = control.ω1-(control.mcentral*π/30 - control.mrelevant*π/30)*30/control.tprop\n",
    "plt.plot(ω_linear), ω_linear.size\n"
   ]
  },
  {
   "cell_type": "code",
   "execution_count": 9,
   "metadata": {},
   "outputs": [],
   "source": [
    "def sech_photon2(ω, κ):\n",
    "    γ4 = 1/np.cosh(π*ω/κ)*1/κ**0.5\n",
    "    γ4 *= np.sqrt(π/2)\n",
    "    γ4 = γ4/(γ4@γ4)**(0.5)\n",
    "    γ4 = np.concatenate((np.zeros(4), γ4))\n",
    "    return γ4\n",
    "\n",
    "from numpy import pi as π\n",
    "\n",
    "def Trotter_solver_dynamics(time,v0,control,g1=None,g2=None):\n",
    "    vt = [v0]\n",
    "    last_t = time[0]\n",
    "    for t in time[1:]:\n",
    "        dt = t - last_t\n",
    "        v0 = scipy.sparse.linalg.expm_multiply((-1j*dt) * control.Hamiltonian(g1=g1(t), g2=g2(t)), v0)\n",
    "        vt.append(v0)\n",
    "        last_t = t\n",
    "    return np.array(vt).T\n"
   ]
  },
  {
   "cell_type": "code",
   "execution_count": 10,
   "metadata": {},
   "outputs": [],
   "source": [
    "def input_output_simulation(η=1, κmax=100, npoints=50, ω=2*π*8.40701933547913, l=30, mmax=1001):\n",
    "    ϕ_e = [] \n",
    "    ϕ_g = []\n",
    "    z_e = []\n",
    "    z_g = []\n",
    "    control = setup.Exp2QB2Cavities(ω1=ω, ω2=ω, l=l, mmax=mmax)\n",
    "    \n",
    "#     all_kappas = 2*π*np.linspace(1, κmax, npoints)*1e-3\n",
    "    all_kappas = 2*π*np.logspace(0, κmax, npoints)*1e-3\n",
    "\n",
    "    χrange = all_kappas/2\n",
    "    \n",
    "    for χ in χrange:\n",
    "        \n",
    "        κ = 2*χ\n",
    "        ω = control.ωrelevant\n",
    "        Ω = control.ω1\n",
    "        Ω_e = Ω+κ/2\n",
    "        Ω_g = Ω-κ/2\n",
    "        σph = κ/np.sqrt(12)/η\n",
    "        \n",
    "        ω_linear = control.ω1-(control.mcentral*π/l - control.mrelevant*π/l)*l/control.tprop\n",
    "        \n",
    "        e_ref = sech_photon2(ω-Ω, σph)[4:] * np.exp(-1j*2*control.tprop*(ω_linear)) * np.exp(-1j*((2/κ)*(ω-Ω))) \n",
    "        \n",
    "        g_ref = sech_photon2(ω-Ω, σph)[4:] * np.exp(-1j*2*control.tprop*(ω_linear)) * np.exp(-1j*((2/κ)*(ω-Ω)))\n",
    "    \n",
    "        \n",
    "        e_real = sech_photon2(ω-Ω, σph)[4:] * ((-1j*(ω-(Ω_e))+(0.5*κ))/(-1j*(ω-(Ω_e))-(0.5*κ))) * np.exp(-1j*2*control.tprop*(ω))\n",
    "        \n",
    "        g_real =  sech_photon2(ω-Ω, σph)[4:] * ((-1j*(ω-(Ω_g))+(0.5*κ))/(-1j*(ω-(Ω_g))-(0.5*κ))) * np.exp(-1j*2*control.tprop*(ω))\n",
    "        \n",
    "#         plt.plot(sech_photon2(ω-Ω, all_kappas[5])[4:])\n",
    "        \n",
    "        z_e.append(np.vdot(e_ref,e_real))\n",
    "        z_g.append(np.vdot(g_ref,g_real))\n",
    "        \n",
    "    z_e = np.array(z_e)\n",
    "    z_g = np.array(z_g)\n",
    "    return z_e, z_g"
   ]
  },
  {
   "cell_type": "code",
   "execution_count": 11,
   "metadata": {},
   "outputs": [],
   "source": [
    "def photonic_scattering(σph, ω1=2*π*8.40701933547913, ω2=2*π*8.40701933547913, κ1=0, κ2=0, χ=0, σ=1/2.0,\n",
    "               extratime=0, Nt=1000, l=30, Nm=2101):\n",
    "\n",
    "    control1 = setup.Exp2QB2Cavities(ω1=ω1, ω2=ω2, g1=0, g2=0, κ1=κ1, κ2=κ2, l=l, mmax=Nm)\n",
    "\n",
    "    duration = 2*control1.tprop + extratime \n",
    "    time = np.linspace(-duration/2, duration/2, Nt)\n",
    "\n",
    "    print('New iteration')\n",
    "    print(f'Cavity width = {κ2/(2*π)}*(2π) GHz')\n",
    "\n",
    "    # Scattering against positively detuned cavity\n",
    "    control2 = setup.Exp2QB2Cavities(ω1=ω1, ω2=ω2+χ, g1=0, g2=0, κ1=κ1, κ2=κ2, l=l, mmax=Nm)\n",
    "    vt2 = Trotter_solver_dynamics(time, sech_photon2(control2.ωrelevant-control2.ω1, σph), control2,\n",
    "                                  g1 = lambda t: 0, g2 = lambda t: 0)\n",
    "    ω = control2.ωrelevant\n",
    "    Ω = control2.ω1\n",
    "    Ω_e = Ω+κ2/2\n",
    "    \n",
    "    ψe = vt2[:,-1]\n",
    "    ψe_ref = sech_photon2(ω-Ω, σph)[4:] * np.exp(-1j*2*control2.tprop*(ω)) * ((-1j*(ω-(Ω_e))+(0.5*κ2))/(-1j*(ω-(Ω_e))-(0.5*κ2))) # maybe eliminate π/2\n",
    "    ψe_ref = np.concatenate((np.zeros(4), ψe_ref))\n",
    "    ψe = np.vdot(ψe_ref.conjugate(), ψe)\n",
    "    \n",
    "    # Scattering against positively detuned cavity\n",
    "    control3 = setup.Exp2QB2Cavities(ω1=ω1, ω2=ω2-χ, g1=0, g2=0, κ1=κ1, κ2=κ2, l=l, mmax=Nm)\n",
    "    vt3 = Trotter_solver_dynamics(time, sech_photon2(control3.ωrelevant-control3.ω1, σph), control3,\n",
    "                                  g1 = lambda t: 0, g2 = lambda t: 0)\n",
    "    \n",
    "    ω = control3.ωrelevant\n",
    "    Ω = control3.ω1\n",
    "    Ω_g = Ω-κ2/2\n",
    "    ψg = vt3[:,-1]\n",
    "    ψg_ref = sech_photon2(ω-Ω, σph)[4:] * np.exp(-1j*2*control3.tprop*(ω)) * ((-1j*(ω-(Ω_g))+(0.5*κ2))/(-1j*(ω-(Ω_g))-(0.5*κ2)))\n",
    "    ψg_ref = np.concatenate((np.zeros(4), ψg_ref))\n",
    "    ψg = np.vdot(ψg_ref, ψg)\n",
    "\n",
    "    norm = np.vdot(ψe, ψe)\n",
    "    overlap = np.vdot(ψe, ψg)\n",
    "\n",
    "    Pwaveguide = np.sum(np.abs(vt2[4:,-1])**2)\n",
    "    avgω = np.sum(np.abs(vt2[4:,-1])**2 * control2.ωrelevant) / Pwaveguide\n",
    "    print(f'|wv(tf)|^2    ={Pwaveguide}\\n'\n",
    "          f'norm          ={norm}\\n'\n",
    "          f'overlap       ={np.abs(overlap)}\\n'          \n",
    "          f'angle e/g     ={np.angle(overlap)/π} * π\\n'\n",
    "          f'angle_e       ={np.angle(ψe)/π} * π\\n'\n",
    "          f'mod_e         ={np.abs(ψe)}\\n'\n",
    "          f'angle_g       ={np.angle(ψg)/π} * π\\n'\n",
    "          f'mod_g        ={np.abs(ψg)}')\n",
    "    \n",
    "    return (ψe, ψg, overlap, duration)"
   ]
  },
  {
   "cell_type": "code",
   "execution_count": 12,
   "metadata": {},
   "outputs": [
    {
     "data": {
      "text/plain": [
       "0.016082113900927755"
      ]
     },
     "execution_count": 12,
     "metadata": {},
     "output_type": "execute_result"
    }
   ],
   "source": [
    "all_kappas = 2*π*np.logspace(0, 2, 50)*1e-3\n",
    "all_kappas[10]"
   ]
  },
  {
   "cell_type": "code",
   "execution_count": 13,
   "metadata": {
    "scrolled": true
   },
   "outputs": [
    {
     "name": "stdout",
     "output_type": "stream",
     "text": [
      "New iteration\n",
      "Cavity width = 0.001*(2π) GHz\n"
     ]
    },
    {
     "name": "stderr",
     "output_type": "stream",
     "text": [
      "<ipython-input-9-008245ba80c8>:2: RuntimeWarning: overflow encountered in cosh\n",
      "  γ4 = 1/np.cosh(π*ω/κ)*1/κ**0.5\n"
     ]
    },
    {
     "name": "stdout",
     "output_type": "stream",
     "text": [
      "|wv(tf)|^2    =0.4515814252452643\n",
      "norm          =(0.37542020006971233+0j)\n",
      "overlap       =0.37467543677726106\n",
      "angle e/g     =0.3641415978111495 * π\n",
      "angle_e       =0.16375067493246684 * π\n",
      "mod_e         =0.6127154315583315\n",
      "angle_g       =0.5278922727436163 * π\n",
      "mod_g        =0.6114999190151642\n",
      "New iteration\n",
      "Cavity width = 0.0012589254117941673*(2π) GHz\n",
      "|wv(tf)|^2    =0.43839996515427865\n",
      "norm          =(0.35537262996757835+0j)\n",
      "overlap       =0.35466866769174443\n",
      "angle e/g     =0.37982038511505123 * π\n",
      "angle_e       =0.9268702587535028 * π\n",
      "mod_e         =0.596131386497623\n",
      "angle_g       =-0.6933093561314461 * π\n",
      "mod_g        =0.5949505020621132\n",
      "New iteration\n",
      "Cavity width = 0.0015848931924611139*(2π) GHz\n",
      "|wv(tf)|^2    =0.432796656812545\n",
      "norm          =(0.3017686716040586+0j)\n",
      "overlap       =0.30126652372209395\n",
      "angle e/g     =0.3856708336908957 * π\n",
      "angle_e       =-0.7027935509325592 * π\n",
      "mod_e         =0.5493347536830877\n",
      "angle_g       =-0.31712271724166347 * π\n",
      "mod_g        =0.5484206518925164\n",
      "New iteration\n",
      "Cavity width = 0.0019952623149688794*(2π) GHz\n",
      "|wv(tf)|^2    =0.40010371497186203\n",
      "norm          =(0.21962399608502878+0j)\n",
      "overlap       =0.21970156245635783\n",
      "angle e/g     =0.3743259138206734 * π\n",
      "angle_e       =-0.15808623350115802 * π\n",
      "mod_e         =0.4686405830538247\n",
      "angle_g       =0.21623968031951538 * π\n",
      "mod_g        =0.46880609661396844\n",
      "New iteration\n",
      "Cavity width = 0.0025118864315095803*(2π) GHz\n",
      "|wv(tf)|^2    =0.3309025616491674\n",
      "norm          =(0.13568079236098896+0j)\n",
      "overlap       =0.1367857220706338\n",
      "angle e/g     =0.3179748520916902 * π\n",
      "angle_e       =-0.43887528086450944 * π\n",
      "mod_e         =0.36834873742282453\n",
      "angle_g       =-0.12090042877281927 * π\n",
      "mod_g        =0.3713484211393362\n",
      "New iteration\n",
      "Cavity width = 0.0031622776601683794*(2π) GHz\n",
      "|wv(tf)|^2    =0.2935774579779052\n",
      "norm          =(0.07254978471906492+0j)\n",
      "overlap       =0.07521792256388779\n",
      "angle e/g     =0.15251121727585407 * π\n",
      "angle_e       =-0.1329681835397011 * π\n",
      "mod_e         =0.26935067239393506\n",
      "angle_g       =0.019543033736152966 * π\n",
      "mod_g        =0.27925648707451106\n",
      "New iteration\n",
      "Cavity width = 0.003981071705534973*(2π) GHz\n",
      "|wv(tf)|^2    =0.30340094086253766\n",
      "norm          =(0.049959328098191834+0j)\n",
      "overlap       =0.05452812681372039\n",
      "angle e/g     =-0.19368235308754092 * π\n",
      "angle_e       =0.13961089815051153 * π\n",
      "mod_e         =0.22351583411067732\n",
      "angle_g       =-0.054071454937029334 * π\n",
      "mod_g        =0.24395643839138462\n",
      "New iteration\n",
      "Cavity width = 0.005011872336272725*(2π) GHz\n",
      "|wv(tf)|^2    =0.36235826960264406\n",
      "norm          =(0.07930967463237137+0j)\n",
      "overlap       =0.08585480543511463\n",
      "angle e/g     =-0.525052361292052 * π\n",
      "angle_e       =0.816449444372684 * π\n",
      "mod_e         =0.2816197340961236\n",
      "angle_g       =0.2913970830806319 * π\n",
      "mod_g        =0.30486075739923224\n",
      "New iteration\n",
      "Cavity width = 0.006309573444801933*(2π) GHz\n",
      "|wv(tf)|^2    =0.4553450177391366\n",
      "norm          =(0.15557033167661458+0j)\n",
      "overlap       =0.16358064257790553\n",
      "angle e/g     =-0.6816924275338451 * π\n",
      "angle_e       =0.5309377210370178 * π\n",
      "mod_e         =0.3944240505808622\n",
      "angle_g       =-0.15075470649682726 * π\n",
      "mod_g        =0.4147329310598652\n",
      "New iteration\n",
      "Cavity width = 0.007943282347242816*(2π) GHz\n",
      "|wv(tf)|^2    =0.5574744659862292\n",
      "norm          =(0.2597135053013282+0j)\n",
      "overlap       =0.26818474290803207\n",
      "angle e/g     =-0.7457237082854824 * π\n",
      "angle_e       =-0.9756874110990149 * π\n",
      "mod_e         =0.5096209427617042\n",
      "angle_g       =0.27858888061550274 * π\n",
      "mod_g        =0.5262435673359556\n",
      "New iteration\n",
      "Cavity width = 0.01*(2π) GHz\n",
      "|wv(tf)|^2    =0.6477813621164563\n",
      "norm          =(0.37010580739978705+0j)\n",
      "overlap       =0.37809219595991106\n",
      "angle e/g     =-0.7747941588683223 * π\n",
      "angle_e       =-0.38199245517305075 * π\n",
      "mod_e         =0.6083632199597433\n",
      "angle_g       =0.8432133859586272 * π\n",
      "mod_g        =0.6214908849764623\n",
      "New iteration\n",
      "Cavity width = 0.012589254117941675*(2π) GHz\n",
      "|wv(tf)|^2    =0.7193040132274118\n",
      "norm          =(0.473349502015438+0j)\n",
      "overlap       =0.4803674218872343\n",
      "angle e/g     =-0.7913318819843737 * π\n",
      "angle_e       =-0.2965170708280286 * π\n",
      "mod_e         =0.6880039985461116\n",
      "angle_g       =0.9121510471875979 * π\n",
      "mod_g        =0.6982044041929197\n",
      "New iteration\n",
      "Cavity width = 0.01584893192461114*(2π) GHz\n",
      "|wv(tf)|^2    =0.7757692939319211\n",
      "norm          =(0.5652394152976439+0j)\n",
      "overlap       =0.5712107982647701\n",
      "angle e/g     =-0.802476684890079 * π\n",
      "angle_e       =-0.8535477895722603 * π\n",
      "mod_e         =0.7518240587382422\n",
      "angle_g       =0.3439755255376608 * π\n",
      "mod_g        =0.7597665858464432\n",
      "New iteration\n",
      "Cavity width = 0.0199526231496888*(2π) GHz\n",
      "|wv(tf)|^2    =0.8208991787217296\n",
      "norm          =(0.6447829702214753+0j)\n",
      "overlap       =0.6497153867395427\n",
      "angle e/g     =-0.8102418498846754 * π\n",
      "angle_e       =0.6043208619138657 * π\n",
      "mod_e         =0.8029837920042193\n",
      "angle_g       =-0.20592098797080963 * π\n",
      "mod_g        =0.8091264023124002\n",
      "New iteration\n",
      "Cavity width = 0.025118864315095808*(2π) GHz\n",
      "|wv(tf)|^2    =0.8568580778158065\n",
      "norm          =(0.7118933413958011+0j)\n",
      "overlap       =0.7158427121312748\n",
      "angle e/g     =-0.8158986646990746 * π\n",
      "angle_e       =-0.22360052226030633 * π\n",
      "mod_e         =0.8437377207377901\n",
      "angle_g       =0.9605008130406192 * π\n",
      "mod_g        =0.8484185245449499\n",
      "New iteration\n",
      "Cavity width = 0.03162277660168379*(2π) GHz\n",
      "|wv(tf)|^2    =0.8843213926803792\n",
      "norm          =(0.7675188830654002+0j)\n",
      "overlap       =0.7705312402154115\n",
      "angle e/g     =-0.8203972405414556 * π\n",
      "angle_e       =-0.39887487640959945 * π\n",
      "mod_e         =0.876081550465138\n",
      "angle_g       =0.780727883048945 * π\n",
      "mod_g        =0.8795199942360541\n",
      "New iteration\n",
      "Cavity width = 0.039810717055349734*(2π) GHz\n",
      "|wv(tf)|^2    =0.9060124970975673\n",
      "norm          =(0.8123624798459781+0j)\n",
      "overlap       =0.8147902590857161\n",
      "angle e/g     =-0.8244124648189359 * π\n",
      "angle_e       =0.4125191983442819 * π\n",
      "mod_e         =0.9013115331814955\n",
      "angle_g       =-0.4118932664746541 * π\n",
      "mod_g        =0.9040051403865076\n",
      "New iteration\n",
      "Cavity width = 0.05011872336272725*(2π) GHz\n",
      "|wv(tf)|^2    =0.9238425041200377\n",
      "norm          =(0.8467677489263304+0j)\n",
      "overlap       =0.8488013175568142\n",
      "angle e/g     =-0.8283617352070476 * π\n",
      "angle_e       =0.0644570105132992 * π\n",
      "mod_e         =0.9201998418421569\n",
      "angle_g       =-0.7639047246937483 * π\n",
      "mod_g        =0.9224097624898423\n",
      "New iteration\n",
      "Cavity width = 0.06309573444801933*(2π) GHz\n",
      "|wv(tf)|^2    =0.9366639532699262\n",
      "norm          =(0.8702787755885333+0j)\n",
      "overlap       =0.8717810439505507\n",
      "angle e/g     =-0.8320840440677948 * π\n",
      "angle_e       =0.029237561062845283 * π\n",
      "mod_e         =0.9328873327409549\n",
      "angle_g       =-0.8028464830049494 * π\n",
      "mod_g        =0.934497675500786\n",
      "New iteration\n",
      "Cavity width = 0.07943282347242817*(2π) GHz\n",
      "|wv(tf)|^2    =0.9443042790660523\n",
      "norm          =(0.882950425700075+0j)\n",
      "overlap       =0.8837424780012002\n",
      "angle e/g     =-0.8351034090368468 * π\n",
      "angle_e       =-0.5238618523449176 * π\n",
      "mod_e         =0.939654418230487\n",
      "angle_g       =0.6410347386182357 * π\n",
      "mod_g        =0.9404973369522621\n",
      "New iteration\n",
      "Cavity width = 0.1*(2π) GHz\n",
      "|wv(tf)|^2    =0.9486708188795491\n",
      "norm          =(0.8879247394199059+0j)\n",
      "overlap       =0.8878036275480653\n",
      "angle e/g     =-0.8370707924747641 * π\n",
      "angle_e       =-0.6660947486751372 * π\n",
      "mod_e         =0.9422975853836759\n",
      "angle_g       =0.49683445885009886 * π\n",
      "mod_g        =0.9421690571207161\n"
     ]
    }
   ],
   "source": [
    "# all_kappas = 2*π*np.linspace(1, 100, 50)*1e-3\n",
    "all_kappas = 2*π*np.logspace(0, 2, 21)*1e-3\n",
    "\n",
    "if os.path.exists('photonic_scattering_30m.npy'):\n",
    "    photonic_scattering_30m = np.load('photonic_scattering_30m.npy')\n",
    "else:\n",
    "    photonic_scattering_30m = [photonic_scattering(σph=κ/5/np.sqrt(12) , κ1=κ, κ2=κ, χ=0.5*κ, extratime=2/κ, Nt=500, Nm=1001)\n",
    "                   for κ in all_kappas]\n",
    "    photonic_scattering_30m = np.array(photonic_scattering_30m)\n",
    "    np.save('photonic_scattering_30m_100MHz.npy', photonic_scattering_30m)"
   ]
  },
  {
   "cell_type": "code",
   "execution_count": 14,
   "metadata": {},
   "outputs": [],
   "source": [
    "psie_e = np.array(photonic_scattering_30m[:,0])\n",
    "psie_g = np.array(photonic_scattering_30m[:,1])\n",
    "oute_outg = np.array(photonic_scattering_30m[:,2])"
   ]
  },
  {
   "cell_type": "code",
   "execution_count": 15,
   "metadata": {},
   "outputs": [
    {
     "name": "stderr",
     "output_type": "stream",
     "text": [
      "<ipython-input-9-008245ba80c8>:2: RuntimeWarning: overflow encountered in cosh\n",
      "  γ4 = 1/np.cosh(π*ω/κ)*1/κ**0.5\n"
     ]
    },
    {
     "data": {
      "text/plain": [
       "<matplotlib.legend.Legend at 0x7fd83c33df70>"
      ]
     },
     "execution_count": 15,
     "metadata": {},
     "output_type": "execute_result"
    },
    {
     "name": "stderr",
     "output_type": "stream",
     "text": [
      "findfont: Font family ['serif'] not found. Falling back to DejaVu Sans.\n"
     ]
    },
    {
     "data": {
      "image/png": "[encoded data removed]",
      "text/plain": [
       "<Figure size 1008x432 with 2 Axes>"
      ]
     },
     "metadata": {
      "needs_background": "light"
     },
     "output_type": "display_data"
    }
   ],
   "source": [
    "fig, (ax1,ax2) = plt.subplots(1, 2, figsize=(14,6))\n",
    "\n",
    "ze, zg = input_output_simulation(η=5, κmax=2, npoints=21, ω=2*π*8.40701933547913, l=30)\n",
    "\n",
    "ax1.plot(all_kappas*1e3/2/π, np.abs(ze), label='theory')\n",
    "ax2.plot(all_kappas*1e3/2/π, np.angle(ze)/π,label='theory')\n",
    "\n",
    "ax1.plot(all_kappas*1e3/2/π, np.abs(zg), label='theory')\n",
    "ax2.plot(all_kappas*1e3/2/π, np.angle(zg)/π, label='theory')\n",
    "\n",
    "ax1.plot(all_kappas*1e3/2/π, np.abs(psie_e),label='sim')\n",
    "ax2.plot(all_kappas*1e3/2/π, np.angle(psie_e)/π,label='sim')\n",
    "\n",
    "ax1.plot(all_kappas*1e3/2/π, np.abs(psie_g),label='sim')\n",
    "ax2.plot(all_kappas*1e3/2/π, np.angle(psie_g)/π,label='sim')\n",
    "\n",
    "ax2.plot(all_kappas*1e3/2/π, np.angle(oute_outg)/π,label='oute outg')\n",
    "\n",
    "\n",
    "ax1.legend()\n",
    "ax2.legend()"
   ]
  },
  {
   "cell_type": "code",
   "execution_count": 16,
   "metadata": {},
   "outputs": [
    {
     "data": {
      "image/png": "[encoded data removed]",
      "text/plain": [
       "<Figure size 1008x432 with 2 Axes>"
      ]
     },
     "metadata": {
      "needs_background": "light"
     },
     "output_type": "display_data"
    }
   ],
   "source": [
    "fig, (ax1, ax2) = plt.subplots(1, 2, figsize=(14,6))\n",
    "\n",
    "\n",
    "ax1.plot(all_kappas*1e3/2/π,1-np.abs(psie_e)**2, label='$in-out_e$')\n",
    "ax1.plot(all_kappas*1e3/2/π,1-np.abs(psie_g)**2, label='$in-out_g$')\n",
    "\n",
    "# ax1.set_xlabel('$\\\\eta$')\n",
    "# ax1.set_ylabel('$1-|Z|$')\n",
    "ax1.legend()\n",
    "ax1.plot(all_kappas*1e3/2/π, 0.5 + np.angle(psie_g)/π)\n",
    "# ax2.set_xlabel('$\\\\eta$')\n",
    "# ax2.set_ylabel('$1-\\\\varphi/\\\\pi$')\n",
    "# ax2.legend()\n",
    "ax1.set_yscale('log')\n",
    "ax2.set_yscale('log')\n",
    "\n",
    "plt.show()"
   ]
  },
  {
   "cell_type": "code",
   "execution_count": 17,
   "metadata": {
    "scrolled": true
   },
   "outputs": [
    {
     "ename": "SyntaxError",
     "evalue": "unexpected character after line continuation character (<ipython-input-17-1003c8df6c26>, line 8)",
     "output_type": "error",
     "traceback": [
      "\u001b[0;36m  File \u001b[0;32m\"<ipython-input-17-1003c8df6c26>\"\u001b[0;36m, line \u001b[0;32m8\u001b[0m\n\u001b[0;31m    photonic_scattering_5m = [photonic_scattering(σph=all_kappas[0]/np.sqrt(12)/4, ω1=2*π*8.416408398466828, ω2=2*π*8.416408398466828, κ1=0, κ2=κ, χ=0.5*\\kappa, extratime=0, l=5,  Nm=351)\u001b[0m\n\u001b[0m                                                                                                                                                                                           ^\u001b[0m\n\u001b[0;31mSyntaxError\u001b[0m\u001b[0;31m:\u001b[0m unexpected character after line continuation character\n"
     ]
    }
   ],
   "source": [
    "all_kappas = 2*π*np.linspace(1, 100, 21)*1e-3\n",
    "all_kappas = 2*π*np.logspace(0, 2, 21)*1e-3\n",
    "\n",
    "\n",
    "if os.path.exists('photonic_scattering_5m.npy'):\n",
    "    photonic_scattering_5m = np.load('photonic_scattering_5m.npy')\n",
    "else:\n",
    "    photonic_scattering_5m = [photonic_scattering(σph=all_kappas[0]/np.sqrt(12)/4, ω1=2*π*8.416408398466828, ω2=2*π*8.416408398466828, κ1=0, κ2=κ, χ=0.5*κ, extratime=0, l=5,  Nm=351)\n",
    "                        for κ in all_kappas]\n",
    "    \n",
    "    photonic_scattering_5m = np.array(photonic_scattering_5m, dtype=object)"
   ]
  },
  {
   "cell_type": "code",
   "execution_count": null,
   "metadata": {},
   "outputs": [],
   "source": [
    "fig, ax = plt.subplots(1, 1, figsize=(14,6))\n",
    "\n",
    "ze, zg = input_output_simulation(κ=2*π*1e-3*100, κmax=2*π*1e-3*100, npoints=21, ω=2*π*8.40701933547913, l=30)\n",
    "\n",
    "ax.plot(all_kappas*1e3/2/π, np.abs(ze))\n",
    "ax.plot(all_kappas*1e3/2/π, np.angle(ze)/π)\n",
    "\n",
    "ax.plot(all_kappas*1e3/2/π, np.abs(zg))\n",
    "ax.plot(all_kappas*1e3/2/π, np.angle(zg)/π)\n",
    "\n",
    "ax.plot(all_kappas*1e3/2/π, np.abs(psie_e))\n",
    "ax.plot(all_kappas*1e3/2/π, np.angle(psie_e)/π)\n",
    "ax.plot(all_kappas*1e3/2/π, np.abs(psie_g))\n",
    "ax.plot(all_kappas*1e3/2/π, np.angle(psie_g)/π)"
   ]
  },
  {
   "cell_type": "code",
   "execution_count": null,
   "metadata": {},
   "outputs": [],
   "source": [
    "fig, (ax1, ax2) = plt.subplots(1, 2, figsize=(14,6))\n",
    "moduluse, modulusg, ϕmaxe, ϕmaxg =input_output_estimation_improved()\n",
    "\n",
    "ax1.plot(np.linspace(1,10,42),1-moduluse**2, label='$in-out_e$')\n",
    "ax1.plot(np.linspace(1,10,42),1-modulusg**2, label='$in-out_g$')\n",
    "ax1.plot(np.linspace(1,10,42),1-(moduluse*modulusg), label='$1-\\\\psi_e\\\\psi_g$')\n",
    "\n",
    "ax1.plot(np.linspace(1,10,42),1-np.abs(np.array(phase_gate_30m_100MHz)[:,2]),label =r'Simulated 30m 100MHz')\n",
    "\n",
    "\n",
    "ax1.set_xlabel('$\\\\eta$')\n",
    "ax1.set_ylabel('$1-|Z|$')\n",
    "ax1.legend()\n",
    "ax2.plot(np.linspace(1,10,42),1-np.angle(np.array(phase_gate_30m_100MHz)[:,2])/π,label =r'Simulated 30m 100MHz')\n",
    "\n",
    "ax2.set_xlabel('$\\\\eta$')\n",
    "ax2.set_ylabel('$1-\\\\varphi/\\\\pi$')\n",
    "ax2.legend()\n",
    "ax1.set_yscale('log')\n",
    "ax2.set_yscale('log')\n",
    "\n",
    "plt.show()"
   ]
  },
  {
   "cell_type": "markdown",
   "metadata": {},
   "source": [
    "# Plot for the article In-out_e"
   ]
  },
  {
   "cell_type": "markdown",
   "metadata": {},
   "source": [
    "## Value of the e/g asymetry"
   ]
  },
  {
   "cell_type": "code",
   "execution_count": 387,
   "metadata": {},
   "outputs": [
    {
     "data": {
      "text/plain": [
       "[<matplotlib.lines.Line2D at 0x7fe7f65ccf70>]"
      ]
     },
     "execution_count": 387,
     "metadata": {},
     "output_type": "execute_result"
    },
    {
     "data": {
      "image/png": "[encoded data removed]",
      "text/plain": [
       "<Figure size 252x189 with 1 Axes>"
      ]
     },
     "metadata": {
      "needs_background": "light"
     },
     "output_type": "display_data"
    }
   ],
   "source": [
    "plt.plot(np.angle(input_output_simulation(κmax=100)[1]))"
   ]
  },
  {
   "cell_type": "code",
   "execution_count": null,
   "metadata": {},
   "outputs": [],
   "source": []
  },
  {
   "cell_type": "code",
   "execution_count": null,
   "metadata": {},
   "outputs": [],
   "source": []
  }
 ],
 "metadata": {
  "kernelspec": {
   "display_name": "Python 3",
   "language": "python",
   "name": "python3"
  },
  "language_info": {
   "codemirror_mode": {
    "name": "ipython",
    "version": 3
   },
   "file_extension": ".py",
   "mimetype": "text/x-python",
   "name": "python",
   "nbconvert_exporter": "python",
   "pygments_lexer": "ipython3",
   "version": "3.8.5"
  }
 },
 "nbformat": 4,
 "nbformat_minor": 4
}
