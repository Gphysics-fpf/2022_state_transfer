{
 "cells": [
  {
   "cell_type": "code",
   "execution_count": 2,
   "metadata": {},
   "outputs": [],
   "source": [
    "# import exportnb\n",
    "# exportnb.export_notebooks(['./210618 - Functions_for_import.ipynb'])\n",
    "import setup"
   ]
  },
  {
   "cell_type": "code",
   "execution_count": 3,
   "metadata": {},
   "outputs": [
    {
     "data": {
      "text/plain": [
       "<module 'setup' from '/home/guillermo/Nextcloud/projects/Distributed_Q_gates_clean/Codes/setup.py'>"
      ]
     },
     "execution_count": 3,
     "metadata": {},
     "output_type": "execute_result"
    }
   ],
   "source": [
    "import importlib\n",
    "importlib.reload(setup)"
   ]
  },
  {
   "cell_type": "code",
   "execution_count": 4,
   "metadata": {},
   "outputs": [],
   "source": [
    "import numpy as np\n",
    "import os.path\n",
    "from numpy import pi, floor, sqrt\n",
    "import scipy.sparse as sp\n",
    "import scipy.sparse.linalg\n",
    "import matplotlib.pyplot as plt\n",
    "from matplotlib.gridspec import GridSpec\n",
    "from joblib import delayed, Parallel, parallel_backend"
   ]
  },
  {
   "cell_type": "code",
   "execution_count": 5,
   "metadata": {},
   "outputs": [],
   "source": [
    "styles = ['science']\n",
    "prefix = '../stylelib/'\n",
    "sufix = '.mplstyle'\n",
    "for i in range(len(styles)):\n",
    "    styles[i] = prefix + styles[i] + sufix\n",
    "plt.style.use(styles)\n",
    "plt.rcParams.update({'font.size': 20})"
   ]
  },
  {
   "cell_type": "markdown",
   "metadata": {
    "tags": []
   },
   "source": [
    "## Function that implements evolution"
   ]
  },
  {
   "cell_type": "code",
   "execution_count": 6,
   "metadata": {},
   "outputs": [],
   "source": [
    "from numpy import pi as π\n",
    "\n",
    "def Trotter_solver_dynamics(time,v0,control,g1=None,g2=None):\n",
    "    vt = [v0]\n",
    "    last_t = time[0]\n",
    "    for t in time[1:]:\n",
    "        dt = t - last_t\n",
    "        v0 = scipy.sparse.linalg.expm_multiply((-1j*dt) * control.Hamiltonian(g1=g1(t), g2=g2(t)), v0)\n",
    "        vt.append(v0)\n",
    "        last_t = t\n",
    "    return np.array(vt).T"
   ]
  },
  {
   "cell_type": "markdown",
   "metadata": {
    "tags": []
   },
   "source": [
    "## Shape of the controls"
   ]
  },
  {
   "cell_type": "code",
   "execution_count": 7,
   "metadata": {},
   "outputs": [],
   "source": [
    "def sech(x):\n",
    "    return 1/np.cosh(x)\n",
    "\n",
    "def sech(x):\n",
    "    return np.tanh(x)/np.sinh(x)\n",
    "    \n",
    "def gt(t, σ, κ):\n",
    "    if σ == 0.5*κ:\n",
    "        return σ / np.cosh(σ*t)\n",
    "    th = np.tanh(t*σ)\n",
    "    ex = np.exp(-2*t*σ)\n",
    "    return (κ - 2*σ*th)/np.sqrt(2*(κ*(1+ex)-2*σ)/σ)"
   ]
  },
  {
   "cell_type": "markdown",
   "metadata": {
    "tags": []
   },
   "source": [
    "## State transfer"
   ]
  },
  {
   "cell_type": "markdown",
   "metadata": {},
   "source": [
    "We define a state transfer protocol with two pulses centered at $\\pm t_{delay}=\\pm t_{prop}/2.$ Each pulse lasts $24/\\kappa$ so that the sech profile is properly dampened at the beginning and at the end. We only need $\\sim 3000$ time steps, because the number of time steps is determined by how fast the Hamiltonian changes --- we can do arbitrarily large exponentials, Python takes care of that; our only error is the fact that we do piecewise constant Hamiltonian simulations."
   ]
  },
  {
   "cell_type": "code",
   "execution_count": 8,
   "metadata": {},
   "outputs": [],
   "source": [
    "import scipy.interpolate\n",
    "\n",
    "def state_transfer(lamb_shift=None, δ1=2*π*8.40701933547913, δ2=2*π*8.40701933547913,\n",
    "                   ω1=2*π*8.40701933547913, ω2=2*π*8.40701933547913,\n",
    "                    kappa=2*π*20e-3, κ1=None, κ2=None, σ=0.5,\n",
    "                   Tfp=10, Nt=3000, lwv=30, Nm=2101,\n",
    "                   quiet=False, filename=None):\n",
    "    if κ1 is None:\n",
    "        κ1 = kappa\n",
    "    if κ2 is None:\n",
    "        κ2 = κ1\n",
    "    if lamb_shift is None:\n",
    "        lamb_shift = interp_lamb(κ1, lwv)\n",
    "        \n",
    "  \n",
    "    \n",
    "    control = setup.Exp2QB2Cavities(δLamb = lamb_shift, δ1 = δ1, δ2 = δ2, ω1 = ω1, ω2 = ω2, g1=0, g2=0, κ1=κ1, κ2=κ2, l=lwv, mmax=Nm)\n",
    "    \n",
    "    ## solve dynamics\n",
    "    tdelay = 1*control.tprop #separation between protocol g_1(t) and g_2(t) /time reversed. \n",
    "    σ *= κ1\n",
    "    duration = tdelay + 2 * (Tfp/σ)\n",
    "    time = np.linspace(-duration/2, duration/2, Nt)\n",
    "   \n",
    "    def g1t(t):\n",
    "        return gt(t + tdelay/2, σ,  κ1)\n",
    "\n",
    "    def g2t(t):\n",
    "        return gt(tdelay/2 - t, σ,  κ2)\n",
    "\n",
    "    #Control initial/final values:\n",
    "    print(f'Initial value of the control g_1(-tf)= (2π)*{g1t(time[0])/2/π*1e3}MHz')\n",
    "    print('κ1= (2π)',κ1/2/π*1e3,'MHz')    \n",
    "    print(f'Total time ={duration/control.tprop}*Propagation_time')\n",
    "\n",
    "    vt = Trotter_solver_dynamics(time, control.qubit_excited(which=0), control, g1=g1t, g2=g2t)\n",
    "    P = np.abs(vt)**2\n",
    "    ## Showing results:\n",
    "    Pwaveguide = np.sum(P[4:,:],0)\n",
    "    print(f'|q_1(tf)|^2 = {P[0,-1]}\\n'\n",
    "          f'|c_1(tf)|^2 = {P[2,-1]}\\n'\n",
    "          f'|wv(tf)|^2  = {Pwaveguide[-1]} (max = {max(Pwaveguide)})\\n'\n",
    "          f'|c_2(tf)|^2 = {P[3,-1]}\\n'\n",
    "          f'|q_2(tf)|^2 = {P[1,-1]}\\n'\n",
    "          f' 1-F        = {1-P[1,-1]}')\n",
    "    if not quiet:\n",
    "        fig, (ax, axc) = plt.subplots(nrows=2, figsize=(8,6), sharex=True)\n",
    "        ax.plot(time*κ1, P[0,:], label='qubit 1')\n",
    "        ax.plot(time*κ1, P[1,:], label='qubit 2')\n",
    "        ax.plot(time*κ1, P[2,:], '--', label='cavity 1')\n",
    "        ax.plot(time*κ1, P[3,:], '--', label='cavity 2')\n",
    "        ax.plot(time*κ1, Pwaveguide, '-.', label='waveguide')\n",
    "        #ax.set_xlabel(r'$t\\κ1$')\n",
    "        ax.legend(fontsize=16)\n",
    "        ax.set_title(f'$l={lwv}\\,m,\\,'\n",
    "                     r'\\omega=2\\pi\\times'\n",
    "                     f'{control.ω1/(2*π)}'\n",
    "                     r'\\,\\mathrm{GHz},\\,\\kappa_1=2\\pi\\times'\n",
    "                     f'{np.round(κ1/(2e-3*π))}'\n",
    "                     r'\\,\\mathrm{MHz},\\,\\sigma/\\kappa_1='\n",
    "                     f'{np.round(σ/κ1,3)}$', fontsize=16)\n",
    "        axc.plot(time*κ1, g1t(time)/κ1, label=r'$g_1(t)/\\kappa_1$')\n",
    "        axc.plot(time*κ1, g2t(time)/κ2, label=r'$g_2(t)/\\kappa_2$')\n",
    "        axc.set_xlabel(r'$t\\kappa_1$')\n",
    "        axc.set_ylabel(r'$g_i(t)/\\kappa_i$')\n",
    "        axc.legend(fontsize=16)\n",
    "        fig.tight_layout()\n",
    "        plt.show()\n",
    "        if filename:\n",
    "            fig.savefig(filename)\n",
    "    \n",
    "    timeres = time/control.tprop\n",
    "    q1end = P[0,-1]\n",
    "    q2end = P[1,-1]\n",
    "    return q2end, q1end, control.ωrelevant"
   ]
  },
  {
   "cell_type": "markdown",
   "metadata": {},
   "source": [
    "The state transfer protocol also works in a limit in which the photons do not fit into the waveguide:"
   ]
  },
  {
   "cell_type": "markdown",
   "metadata": {},
   "source": [
    "With our new controls can vary the width of the pulse, so that it is no longer $\\kappa/2$, and still get good transfer"
   ]
  },
  {
   "cell_type": "markdown",
   "metadata": {
    "tags": []
   },
   "source": [
    "## Systematic studies"
   ]
  },
  {
   "cell_type": "markdown",
   "metadata": {},
   "source": [
    "We explore three lengths, $l=30$m, $l=5$m and $l=1$m, for a variety of $\\kappa$, and also in one instance for pulses with enlarged duration $\\sigma=\\kappa/4.$ We also explore different values of $\\eta$ and detunings with respect to one of the WG modes. Unless otherwise specified. $\\eta = 1$, and resonant condition."
   ]
  },
  {
   "cell_type": "code",
   "execution_count": 9,
   "metadata": {},
   "outputs": [],
   "source": [
    "# Execute this line to remove the precomputed files\n",
    "# !del state_transfer_*.npy"
   ]
  },
  {
   "cell_type": "code",
   "execution_count": 10,
   "metadata": {},
   "outputs": [],
   "source": [
    "all_kappas = 2*π*np.logspace(0.0, 2.0, 36)*1e-3"
   ]
  },
  {
   "cell_type": "code",
   "execution_count": 11,
   "metadata": {
    "scrolled": true
   },
   "outputs": [],
   "source": [
    "# 1meter. \n",
    "\n",
    "if os.path.exists('../Data/P_transfer_1m_71modes.npy'):\n",
    "    P_transfer_1m_71modes = np.load('../Data/P_transfer_1m_71modes.npy', allow_pickle = True)\n",
    "    \n",
    "else:  \n",
    "    with parallel_backend('loky', n_jobs=36):\n",
    "        P_transfer_1m_71modes = Parallel()(delayed(state_transfer)(δ1=2*π*8.492099722936853, δ2=2*π*8.492099722936853,\n",
    "                   ω1=2*π*8.492099722936853, ω2=2*π*8.492099722936853, lamb_shift=-0.01732777777777778*κ, kappa=κ, Tfp=15, lwv=1, Nm=71, quiet=True)\n",
    "                     for κ in all_kappas)\n",
    "        P_transfer_1m_71modes = np.array(P_transfer_1m_71modes, dtype = object)\n",
    "    np.save('../Data/P_transfer_1m_71modes.npy', P_transfer_1m_71modes)"
   ]
  },
  {
   "cell_type": "code",
   "execution_count": 12,
   "metadata": {
    "scrolled": true
   },
   "outputs": [],
   "source": [
    "# 5meters. Off-resonance.\n",
    "\n",
    "if os.path.exists('../Data/P_transfer_5m_offresonance.npy'):\n",
    "    P_transfer_5m_offresonance = np.load('../Data/P_transfer_5m_offresonance.npy', allow_pickle = True) \n",
    "    \n",
    "else:\n",
    "    with parallel_backend('loky', n_jobs=36):\n",
    "        P_transfer_5m_offresonance = Parallel()(delayed(state_transfer)(δ1=2*π*8.407027464805756, δ2=2*π*8.407027464805756,\n",
    "                   ω1=2*π*8.407027464805756, ω2=2*π*8.407027464805756,lamb_shift=-0.012187088888888885*κ, kappa=κ, lwv=5, Nm=351, quiet=True)\n",
    "                     for κ in all_kappas)\n",
    "        P_transfer_5m_offresonance =  np.array(P_transfer_5m_offresonance, dtype = object)                       \n",
    "    np.save('../Data/P_transfer_5m_offresonance.npy', P_transfer_5m_offresonance)"
   ]
  },
  {
   "cell_type": "code",
   "execution_count": 13,
   "metadata": {
    "scrolled": true
   },
   "outputs": [],
   "source": [
    "#5 meters.\n",
    "\n",
    "if os.path.exists('../Data/P_transfer_5m.npy'):\n",
    "    P_transfer_5m = np.load('../Data/P_transfer_5m.npy', allow_pickle = True)\n",
    "    \n",
    "else:\n",
    "    with parallel_backend('loky', n_jobs=36):\n",
    "        P_transfer_5m = Parallel()(delayed(state_transfer)(δ1=2*π*8.416408398466828, δ2=2*π*8.416408398466828,\n",
    "                   ω1=2*π*8.416408398466828, ω2=2*π*8.416408398466828, lamb_shift=-0.012187088888888885*κ, kappa=κ, Tfp=15, lwv=5, Nm=351, quiet=True)\n",
    "                     for κ in all_kappas)\n",
    "        P_transfer_5m =  np.array(P_transfer_5m, dtype = object)\n",
    "    np.save('../DataP_transfer_5m.npy', P_transfer_5m )"
   ]
  },
  {
   "cell_type": "code",
   "execution_count": 14,
   "metadata": {
    "scrolled": true
   },
   "outputs": [],
   "source": [
    "# 30 meters\n",
    "all_kappas_30 = 2*π*np.logspace(0.0, 2.0, 21)*1e-3\n",
    "\n",
    "if os.path.exists('../Data/P_transfer_30m.npy'):\n",
    "    P_transfer_30m = np.load('../Data/P_transfer_30m.npy', allow_pickle = True)\n",
    "    \n",
    "else:\n",
    "#     with parallel_backend('loky', n_jobs=36):\n",
    "#         P_transfer_30m = Parallel()(delayed(state_transfer)(lamb_shift=-0.011618999999999999*κ, kappa=κ, Tfp=20, quiet=True)\n",
    "#                          for κ in all_kappas_30)\n",
    "       \n",
    "        P_transfer_30m = [state_transfer(lamb_shift=-0.011618999999999999*κ, kappa=κ, Tfp=20, quiet=True)\n",
    "                         for κ in all_kappas_30]\n",
    "        \n",
    "\n",
    "        P_transfer_30m = np.array(P_transfer_30m, dtype = object)\n",
    "        np.save('../Data/P_transfer_30m.npy', P_transfer_30m)"
   ]
  },
  {
   "cell_type": "code",
   "execution_count": 18,
   "metadata": {
    "scrolled": true
   },
   "outputs": [],
   "source": [
    "# 30 meters. η = 4, which halves the coupling.\n",
    "\n",
    "if os.path.exists('../Data/P_transfer_30m_quarter.npy'):\n",
    "    P_transfer_30m_quarter = np.load('../Data/P_transfer_30m_quarter.npy', allow_pickle = True)\n",
    "    \n",
    "else:\n",
    "    # with parallel_backend('loky', n_jobs=36):\n",
    "    #     all_kappas_30 = 2*π*np.logspace(0.0, 2.0, 5)*1e-3\n",
    "    #     P_transfer_30m_quarter = Parallel()(delayed(state_transfer)(lamb_shift=-0.011618999999999999*κ, kappa=κ, Tfp = 15, quiet=True, σ=0.25)\n",
    "    #                      for κ in all_kappas_30)\n",
    "\n",
    "    P_transfer_30m_quarter = [state_transfer(lamb_shift=-0.011618999999999999*κ, kappa=κ, Nt=5000, Tfp = 15, quiet=True, σ=0.125)\n",
    "                     for κ in all_kappas_30]\n",
    "    P_transfer_30m_quarter = np.array(P_transfer_30m_quarter, dtype = object)\n",
    "    np.save('../Data/P_transfer_30m_quarter.npy', P_transfer_30m_quarter)"
   ]
  },
  {
   "cell_type": "code",
   "execution_count": 19,
   "metadata": {},
   "outputs": [
    {
     "data": {
      "image/png": "[encoded data removed]",
      "text/plain": [
       "<Figure size 648x360 with 1 Axes>"
      ]
     },
     "metadata": {
      "needs_background": "light"
     },
     "output_type": "display_data"
    }
   ],
   "source": [
    "fig, (ax1) = plt.subplots(nrows=1, ncols=1, figsize=(9,5), sharey = True, constrained_layout=True)\n",
    "\n",
    "ax1.loglog(all_kappas/(2e-3*π), 1-P_transfer_1m_71modes[:,0], label = '1m')\n",
    "ax1.loglog(all_kappas/(2e-3*π), 1-P_transfer_5m[:,0], label = '5m')\n",
    "ax1.loglog(all_kappas/(2e-3*π), 1-P_transfer_5m_offresonance[:,0],'.-', label = '5m off resonance')\n",
    "ax1.loglog( all_kappas_30/(2e-3*π), 1-P_transfer_30m[:,0], label = '30m')\n",
    "ax1.loglog(all_kappas_30/(2e-3*π), 1-P_transfer_30m_quarter[:,0], label = '30m, $\\\\eta=2$')\n",
    "\n",
    "# ax1.loglog(all_kappas_30/(2e-3*π), 1-P_transfer_30m_half[:,0], label = '30m, $\\\\eta=2$')\n",
    "\n",
    "\n",
    "\n",
    "\n",
    "ax1.set_ylabel('$$1- |q_2(t_f)^2|$$')\n",
    "ax1.set_xlabel(' $ \\kappa (2\\pi \\\\text{MHz}) $ ')\n",
    "\n",
    "ax1.legend()\n",
    "\n",
    "plt.show()"
   ]
  },
  {
   "cell_type": "markdown",
   "metadata": {
    "jp-MarkdownHeadingCollapsed": true,
    "tags": []
   },
   "source": [
    "## Adjusting lamb para 30m $\\kappa/4$"
   ]
  },
  {
   "cell_type": "markdown",
   "metadata": {},
   "source": [
    "Heuristic calculation of Lamb shift"
   ]
  },
  {
   "cell_type": "code",
   "execution_count": null,
   "metadata": {
    "scrolled": true
   },
   "outputs": [],
   "source": [
    "P_lamb_30m_half = []\n",
    "for i,j in enumerate(np.linspace(-0.0116-0.000019, -0.0116 -0.000021, 4)):\n",
    "    P_lamb_30m_half.append([state_transfer(δ1=2*π*8.40701933547913, δ2=2*π*8.40701933547913,\n",
    "                   ω1=2*π*8.40701933547913, ω2=2*π*8.40701933547913, lamb_shift=j*all_kappas[0], Tfp=15, kappa=all_kappas[0], quiet=True, σ=0.25)[0]])\n",
    "    print(f'Fidelity = {1-np.array(P_lamb_30m_half[i])} for a Lambshift of {j}')"
   ]
  },
  {
   "cell_type": "code",
   "execution_count": null,
   "metadata": {
    "scrolled": true
   },
   "outputs": [],
   "source": [
    "P_lamb_5m_10MHz = []\n",
    "for i,j in enumerate(np.linspace(-0.012187055555555552-0.0000001, -0.012187055555555552+0.0000001, 10)):\n",
    "    P_lamb_5m_10MHz.append([state_transfer(δ1=2*π*8.416408398466828, δ2=2*π*8.416408398466828,\n",
    "                   ω1=2*π*8.416408398466828, ω2=2*π*8.416408398466828, lamb_shift=j*all_kappas[5], kappa=all_kappas[5], Tfp=18, lwv=5, Nm=351, quiet=True)[0]])\n",
    "    print(f'Fidelity = {1-np.array(P_lamb_5m_1MHz[i])} for a Lambshift of {j}')"
   ]
  },
  {
   "cell_type": "markdown",
   "metadata": {
    "jp-MarkdownHeadingCollapsed": true,
    "tags": []
   },
   "source": [
    "## Adjusting Lamb for 1m waveguide"
   ]
  },
  {
   "cell_type": "code",
   "execution_count": 203,
   "metadata": {
    "scrolled": true
   },
   "outputs": [
    {
     "name": "stdout",
     "output_type": "stream",
     "text": [
      "Initial value of the control g_1(-tf)= (2π)*1.3005000161795633e-07MHz\n",
      "κ1= (2π) 63.09573444801933 MHz\n",
      "|q_1(tf)|^2 = 2.3086116478445143e-07\n",
      "|c_1(tf)|^2 = 1.24971894341366e-06\n",
      "|wv(tf)|^2  = 3.5610860482478616e-06 (max = 0.47710123569808666)\n",
      "|c_2(tf)|^2 = 2.1426881912733213e-06\n",
      "|q_2(tf)|^2 = 0.9999928156454848\n",
      "Fidelity = [7.18435452e-06] for a Lambshift of -0.01735\n",
      "Initial value of the control g_1(-tf)= (2π)*1.3005000161795633e-07MHz\n",
      "κ1= (2π) 63.09573444801933 MHz\n",
      "|q_1(tf)|^2 = 2.2999818537849424e-07\n",
      "|c_1(tf)|^2 = 1.2521549942357312e-06\n",
      "|wv(tf)|^2  = 3.5632359152706545e-06 (max = 0.47710115071720055)\n",
      "|c_2(tf)|^2 = 2.1375421967245414e-06\n",
      "|q_2(tf)|^2 = 0.9999928170686635\n",
      "Fidelity = [7.18293134e-06] for a Lambshift of -0.01733888888888889\n",
      "Initial value of the control g_1(-tf)= (2π)*1.3005000161795633e-07MHz\n",
      "κ1= (2π) 63.09573444801933 MHz\n",
      "|q_1(tf)|^2 = 2.2971178843341954e-07\n",
      "|c_1(tf)|^2 = 1.2546129041712362e-06\n",
      "|wv(tf)|^2  = 3.565476408235373e-06 (max = 0.4771010657044915)\n",
      "|c_2(tf)|^2 = 2.1324617294550196e-06\n",
      "|q_2(tf)|^2 = 0.9999928177371463\n",
      "Fidelity = [7.18226285e-06] for a Lambshift of -0.01732777777777778\n",
      "Initial value of the control g_1(-tf)= (2π)*1.3005000161795633e-07MHz\n",
      "κ1= (2π) 63.09573444801933 MHz\n",
      "|q_1(tf)|^2 = 2.3000197777115136e-07\n",
      "|c_1(tf)|^2 = 1.2570926740868104e-06\n",
      "|wv(tf)|^2  = 3.5678075271180517e-06 (max = 0.47710098065992573)\n",
      "|c_2(tf)|^2 = 2.127446788647043e-06\n",
      "|q_2(tf)|^2 = 0.9999928176507606\n",
      "Fidelity = [7.18234924e-06] for a Lambshift of -0.017316666666666668\n",
      "Initial value of the control g_1(-tf)= (2π)*1.3005000161795633e-07MHz\n",
      "κ1= (2π) 63.09573444801933 MHz\n",
      "|q_1(tf)|^2 = 2.3086875720571147e-07\n",
      "|c_1(tf)|^2 = 1.259594304844842e-06\n",
      "|wv(tf)|^2  = 3.570229271865718e-06 (max = 0.47710089558369195)\n",
      "|c_2(tf)|^2 = 2.1224973734556217e-06\n",
      "|q_2(tf)|^2 = 0.9999928168102789\n",
      "Fidelity = [7.18318972e-06] for a Lambshift of -0.017305555555555557\n",
      "Initial value of the control g_1(-tf)= (2π)*1.3005000161795633e-07MHz\n",
      "κ1= (2π) 63.09573444801933 MHz\n",
      "|q_1(tf)|^2 = 2.323121305380067e-07\n",
      "|c_1(tf)|^2 = 1.2621177973059113e-06\n",
      "|wv(tf)|^2  = 3.5727416424365423e-06 (max = 0.4771008104756286)\n",
      "|c_2(tf)|^2 = 2.1176134830659163e-06\n",
      "|q_2(tf)|^2 = 0.9999928152151053\n",
      "Fidelity = [7.18478489e-06] for a Lambshift of -0.017294444444444446\n",
      "Initial value of the control g_1(-tf)= (2π)*1.3005000161795633e-07MHz\n",
      "κ1= (2π) 63.09573444801933 MHz\n",
      "|q_1(tf)|^2 = 2.3433210156320227e-07\n",
      "|c_1(tf)|^2 = 1.2646631523212109e-06\n",
      "|wv(tf)|^2  = 3.5753446387855225e-06 (max = 0.47710072533568987)\n",
      "|c_2(tf)|^2 = 2.112795116650503e-06\n",
      "|q_2(tf)|^2 = 0.9999928128649603\n",
      "Fidelity = [7.18713504e-06] for a Lambshift of -0.017283333333333335\n",
      "Initial value of the control g_1(-tf)= (2π)*1.3005000161795633e-07MHz\n",
      "κ1= (2π) 63.09573444801933 MHz\n",
      "|q_1(tf)|^2 = 2.3692867407213317e-07\n",
      "|c_1(tf)|^2 = 1.2672303707641567e-06\n",
      "|wv(tf)|^2  = 3.578038260873317e-06 (max = 0.47710064016401)\n",
      "|c_2(tf)|^2 = 2.108042273365639e-06\n",
      "|q_2(tf)|^2 = 0.9999928097604093\n",
      "Fidelity = [7.19023959e-06] for a Lambshift of -0.017272222222222224\n",
      "Initial value of the control g_1(-tf)= (2π)*1.3005000161795633e-07MHz\n",
      "κ1= (2π) 63.09573444801933 MHz\n",
      "|q_1(tf)|^2 = 2.401018518295546e-07\n",
      "|c_1(tf)|^2 = 1.2698194534792358e-06\n",
      "|wv(tf)|^2  = 3.580822508650603e-06 (max = 0.4771005549604948)\n",
      "|c_2(tf)|^2 = 2.103354952410681e-06\n",
      "|q_2(tf)|^2 = 0.9999928059010876\n",
      "Fidelity = [7.19409891e-06] for a Lambshift of -0.017261111111111112\n",
      "Initial value of the control g_1(-tf)= (2π)*1.3005000161795633e-07MHz\n",
      "κ1= (2π) 63.09573444801933 MHz\n",
      "|q_1(tf)|^2 = 2.4385163861031743e-07\n",
      "|c_1(tf)|^2 = 1.2724304013344966e-06\n",
      "|wv(tf)|^2  = 3.583697382067384e-06 (max = 0.47710046972518505)\n",
      "|c_2(tf)|^2 = 2.0987331529412005e-06\n",
      "|q_2(tf)|^2 = 0.9999928012871282\n",
      "Fidelity = [7.19871287e-06] for a Lambshift of -0.01725\n"
     ]
    }
   ],
   "source": [
    "P_lamb_5m_1MHz = []\n",
    "for i,j in enumerate(np.linspace(-0.01735-0.000, -0.01735+0.0001, 10)):\n",
    "    P_lamb_5m_1MHz.append([state_transfer(δ1=2*π*8.492099722936853, δ2=2*π*8.492099722936853,\n",
    "                   ω1=2*π*8.492099722936853, ω2=2*π*8.492099722936853, lamb_shift=j*all_kappas[18], kappa=all_kappas[18], Tfp=20, lwv=1, Nm=71, quiet=True)[0]])\n",
    "    print(f'Fidelity = {1-np.array(P_lamb_5m_1MHz[i])} for a Lambshift of {j}')"
   ]
  },
  {
   "cell_type": "code",
   "execution_count": 102,
   "metadata": {},
   "outputs": [
    {
     "data": {
      "text/plain": [
       "8.492099722936853"
      ]
     },
     "execution_count": 102,
     "metadata": {},
     "output_type": "execute_result"
    }
   ],
   "source": [
    "control = setup.Exp2QB2Cavities(δLamb = -0.012189*all_kappas[0], δ1=2*π*8.416408398466828, δ2=2*π*8.416408398466828,\n",
    "                   ω1=2*π*8.416408398466828, ω2=2*π*8.416408398466828, g1=0, g2=0, κ1=all_kappas[0], κ2=all_kappas[0], l=1, mmax=80)\n",
    "np.argmin(np.abs(control.ωrelevant-control.ω1))\n",
    "control.ωrelevant[36]/2/π "
   ]
  }
 ],
 "metadata": {
  "kernelspec": {
   "display_name": "Python 3",
   "language": "python",
   "name": "python3"
  },
  "language_info": {
   "codemirror_mode": {
    "name": "ipython",
    "version": 3
   },
   "file_extension": ".py",
   "mimetype": "text/x-python",
   "name": "python",
   "nbconvert_exporter": "python",
   "pygments_lexer": "ipython3",
   "version": "3.8.5"
  }
 },
 "nbformat": 4,
 "nbformat_minor": 4
}
